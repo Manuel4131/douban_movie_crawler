{
 "cells": [
  {
   "cell_type": "code",
   "execution_count": 32,
   "metadata": {
    "collapsed": false
   },
   "outputs": [
    {
     "name": "stdout",
     "output_type": "stream",
     "text": [
      "Fetch and decompse...\n",
      "1 肖申克的救赎(  The Shawshank Redemption)   9.6\n",
      "2 霸王别姬()   9.6\n",
      "3 这个杀手不太冷(  Léon)   9.4\n",
      "4 阿甘正传(  Forrest Gump)   9.4\n",
      "5 美丽人生(  La vita è bella)   9.5\n",
      "6 泰坦尼克号(  Titanic)   9.3\n",
      "7 千与千寻(  千と千尋の神隠し)   9.3\n",
      "8 辛德勒的名单(  Schindler's List)   9.5\n",
      "9 盗梦空间(  Inception)   9.3\n",
      "10 忠犬八公的故事(  Hachi: A Dog's Tale)   9.3\n",
      "11 机器人总动员(  WALL·E)   9.3\n",
      "12 三傻大闹宝莱坞(  3 Idiots)   9.2\n",
      "13 海上钢琴师(  La leggenda del pianista sull'oceano)   9.2\n",
      "14 放牛班的春天(  Les choristes)   9.3\n",
      "15 楚门的世界(  The Truman Show)   9.2\n",
      "16 大话西游之大圣娶亲(  西遊記大結局之仙履奇緣)   9.2\n",
      "17 星际穿越(  Interstellar)   9.2\n",
      "18 龙猫(  となりのトトロ)   9.2\n",
      "19 教父(  The Godfather)   9.3\n",
      "20 熔炉(  도가니)   9.3\n",
      "21 无间道(  無間道)   9.1\n",
      "22 疯狂动物城(  Zootopia)   9.2\n",
      "23 当幸福来敲门(  The Pursuit of Happyness)   9.0\n",
      "24 怦然心动(  Flipped)   9.0\n",
      "25 触不可及(  Intouchables)   9.2\n",
      "26 蝙蝠侠：黑暗骑士(  The Dark Knight)   9.1\n",
      "27 乱世佳人(  Gone with the Wind)   9.2\n",
      "28 活着()   9.2\n",
      "29 少年派的奇幻漂流(  Life of Pi)   9.0\n",
      "30 控方证人(  Witness for the Prosecution)   9.6\n",
      "31 天堂电影院(  Nuovo Cinema Paradiso)   9.2\n",
      "32 指环王3：王者无敌(  The Lord of the Rings: The Return of the King)   9.2\n",
      "33 鬼子来了()   9.2\n",
      "34 十二怒汉(  12 Angry Men)   9.4\n",
      "35 天空之城(  天空の城ラピュタ)   9.1\n",
      "36 摔跤吧！爸爸(  Dangal)   9.0\n",
      "37 飞屋环游记(  Up)   9.0\n",
      "38 大话西游之月光宝盒(  西遊記第壹佰零壹回之月光寶盒)   9.0\n",
      "39 搏击俱乐部(  Fight Club)   9.0\n",
      "40 哈尔的移动城堡(  ハウルの動く城)   9.0\n",
      "41 罗马假日(  Roman Holiday)   9.0\n",
      "42 闻香识女人(  Scent of a Woman)   9.0\n",
      "43 辩护人(  변호인)   9.2\n",
      "44 窃听风暴(  Das Leben der Anderen)   9.1\n",
      "45 末代皇帝(  The Last Emperor)   9.1\n",
      "46 两杆大烟枪(  Lock, Stock and Two Smoking Barrels)   9.1\n",
      "47 飞越疯人院(  One Flew Over the Cuckoo's Nest)   9.1\n",
      "48 死亡诗社(  Dead Poets Society)   9.0\n",
      "49 寻梦环游记(  Coco)   9.0\n",
      "50 素媛(  소원)   9.2\n"
     ]
    }
   ],
   "source": [
    "import requests\n",
    "import ssl\n",
    "import time\n",
    "from lxml import etree\n",
    "\n",
    "\n",
    "ssl._create_default_https_context = ssl._create_unverified_context\n",
    "\n",
    "session = requests.Session()\n",
    "print(\"Fetch and decompse...\")\n",
    "# for id in range(0, 251, 25):\n",
    "for id in range(0, 50, 25): # single element test\n",
    "    time.sleep(0.5)\n",
    "    url = 'https://movie.douban.com/top250/?start=' + str(id)\n",
    "    req = session.get(url)\n",
    "    req.encoding = 'utf8' # web page encoding is set to 'utf8'\n",
    "    root = etree.HTML(req.content) # Convert string to element\n",
    "    group = root.xpath('//ol/li/div[@class=\"item\"]') # path: ol/li/div[@class=\"item\"] \n",
    "    for movie in group:\n",
    "        try:\n",
    "            movie_cls_pic = movie.xpath('./div[@class=\"pic\"]')[0] # to extract the list element from [WANTED]\n",
    "            url = movie_cls_pic.xpath('./a/@href')\n",
    "            rank = movie_cls_pic.xpath('./em/text()')[0]\n",
    "            title = movie.xpath('./div[@class=\"info\"]//a/span[@class=\"title\"]/text()')\n",
    "            # Python's unicode support:\n",
    "            # https://docs.python.org/3/howto/unicode.html#python-s-unicode-support\n",
    "            name = title[0]\n",
    "            alias = title[1] if len(title) > 1 else \"\"\n",
    "            alias = alias.replace('/','')\n",
    "            rating_num = movie.xpath('.//div[@class=\"bd\"]//span[@class=\"rating_num\"]/text()')[0]\n",
    "            quote_tag = movie.xpath('.//div[@class=\"bd\"]//span[@class=\"inq\"]')\n",
    "###Remove before commit###\n",
    "#             if quote_tag:\n",
    "#                 quote = quote_tag[0].text.encode('gb2312', 'ignore').decode('gb2312').replace('\\xa0', '')\n",
    "#                 quote = quote_tag[0].text\n",
    "            print(\"{} {} ({})   {}\".format(rank,name,alias,rating_num))\n",
    "        except:\n",
    "            print('faild!')"
   ]
  },
  {
   "cell_type": "code",
   "execution_count": 28,
   "metadata": {
    "collapsed": false
   },
   "outputs": [
    {
     "data": {
      "text/plain": [
       "'/xxxxaa'"
      ]
     },
     "execution_count": 28,
     "metadata": {},
     "output_type": "execute_result"
    }
   ],
   "source": [
    "s = \"当一个死水般的体制\"\n",
    "# print(s.encode('utf-8', 'ignore').decode('big5'))\n",
    "# print(s.encode('gb2312', 'ignore').decode('big5'))\n",
    "# s2 = \"繁體字很煩\"\n",
    "# print(s2.encode('utf-8', 'ignore'))\n",
    "s2= '/xxxxaa'\n",
    "s2.replace('/','')\n",
    "s2"
   ]
  },
  {
   "cell_type": "code",
   "execution_count": null,
   "metadata": {
    "collapsed": true
   },
   "outputs": [],
   "source": []
  }
 ],
 "metadata": {
  "kernelspec": {
   "display_name": "Python 3",
   "language": "python",
   "name": "python3"
  },
  "language_info": {
   "codemirror_mode": {
    "name": "ipython",
    "version": 3
   },
   "file_extension": ".py",
   "mimetype": "text/x-python",
   "name": "python",
   "nbconvert_exporter": "python",
   "pygments_lexer": "ipython3",
   "version": "3.6.1"
  }
 },
 "nbformat": 4,
 "nbformat_minor": 0
}
